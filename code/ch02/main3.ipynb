{
 "cells": [
  {
   "cell_type": "code",
   "execution_count": 1,
   "id": "10f052d9",
   "metadata": {},
   "outputs": [
    {
     "name": "stdout",
     "output_type": "stream",
     "text": [
      "fursew123\n"
     ]
    }
   ],
   "source": [
    "import os\n",
    "from openai import OpenAI\n",
    "from dotenv import load_dotenv\n",
    "\n",
    "load_dotenv()\n",
    "api_key = os.getenv(\"LLAMA_KEY\")\n",
    "print(api_key)"
   ]
  },
  {
   "cell_type": "code",
   "execution_count": null,
   "id": "3be0d8f3",
   "metadata": {},
   "outputs": [
    {
     "name": "stdout",
     "output_type": "stream",
     "text": [
      "Chat GPT의 응답 : <think>\n",
      "\n",
      "</think>\n",
      "\n",
      "가산디지털단지역 주변에는 다양한 맛집이 있어요. 아래에 인기 있는 음식점들을 소개해드릴게요. 귀하는 어떤 음식을 좋아하시나요? (한식, 분식, 일식, 피자, 양식, 중국집, 카페 등)  \n",
      "그나저나, 가산디지털단지역은 상업 중심지이기 때문에 다양한 음식점을 찾기 쉬운 곳이에요.  \n",
      "예를 들어, **가산디지털단지역 1번 출구** 주변에는 **아우라타운, 퍼스트파크, 블랙스톤타운** 등이 있어요.  \n",
      "저는 단순히 맛집을 추천해드릴 수도 있지만, 좀 더 구체적인 정보를 원하시면 지역, 예산, 인원 등도 알려주시면 더 정확하게 추천해드릴 수 있어요.  \n",
      "어떤 음식을 원하시나요?\n"
     ]
    }
   ],
   "source": [
    "import os\n",
    "from openai import OpenAI\n",
    "from dotenv import load_dotenv\n",
    "\n",
    "load_dotenv()\n",
    "api_key = os.getenv(\"LLAMA_KEY\")\n",
    "client = OpenAI(base_url='http://127.0.0.1:8080/v1', api_key=api_key)\n",
    "\n",
    "# 답변을 생성하는 함수 정의\n",
    "def get_response(messages):\n",
    "    response = client.chat.completions.create(\n",
    "        model = \"Qwen-8B-GGUF\",\n",
    "        temperature = 0.9,\n",
    "        messages = messages\n",
    "    )\n",
    "    return response.choices[0].message.content\n",
    "\n",
    "# 초기 프롬프트(시스템 프롬프트) 설정\n",
    "message = [\n",
    "    {\"role\" : \"system\", \"content\" : \"너는 사용자를 도와주는 상담사야.\" + \"/no_think\"}\n",
    "]\n",
    "\n",
    "while True:\n",
    "    user_input = input(\"무엇이든 물어보세요 : \")\n",
    "\n",
    "    if user_input == 'exit':\n",
    "        break\n",
    "    \n",
    "    message.append({\"role\" : \"user\", \"content\" : user_input})\n",
    "    ai_response = get_response(messages=message)\n",
    "    message.append({\"role\" : \"assistant\", \"content\" : ai_response})\n",
    "    print(f\"Chat GPT의 응답 : {ai_response}\")"
   ]
  }
 ],
 "metadata": {
  "kernelspec": {
   "display_name": "llm-proj",
   "language": "python",
   "name": "python3"
  },
  "language_info": {
   "codemirror_mode": {
    "name": "ipython",
    "version": 3
   },
   "file_extension": ".py",
   "mimetype": "text/x-python",
   "name": "python",
   "nbconvert_exporter": "python",
   "pygments_lexer": "ipython3",
   "version": "3.11.0"
  }
 },
 "nbformat": 4,
 "nbformat_minor": 5
}
