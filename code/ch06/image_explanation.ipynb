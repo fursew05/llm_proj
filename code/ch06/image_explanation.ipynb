{
 "cells": [
  {
   "cell_type": "markdown",
   "id": "2379a917",
   "metadata": {},
   "source": [
    "### 이미지 url을 통한 이미지 설명"
   ]
  },
  {
   "cell_type": "code",
   "execution_count": 8,
   "id": "6fc8ce51",
   "metadata": {},
   "outputs": [
    {
     "data": {
      "text/plain": [
       "[Choice(finish_reason='stop', index=0, logprobs=None, message=ChatCompletionMessage(content='이 이미지는 겨울철 눈으로 뒤덮인 해안 경관을 보여줍니다. 눈이 쌓인 섬과 작은 마을이 바다와 맞닿아 있으며, 뒤쪽에는 웅장한 산맥이 보입니다. 바다에는 여러 작은 섬들이 흩어져 있고, 하얀 눈이 덮여 있습니다. 전반적으로 차가운 날씨와 고요한 아름다움을 느낄 수 있는 풍경입니다.', refusal=None, role='assistant', annotations=[], audio=None, function_call=None, tool_calls=None))]"
      ]
     },
     "execution_count": 8,
     "metadata": {},
     "output_type": "execute_result"
    }
   ],
   "source": [
    "from openai import OpenAI\n",
    "from dotenv import load_dotenv\n",
    "import os\n",
    "\n",
    "load_dotenv()\n",
    "api_key = os.getenv('OPEN_API_KEY')\n",
    "\n",
    "client = OpenAI(api_key = api_key)\n",
    "\n",
    "messages = [\n",
    "    {\n",
    "        \"role\" : \"user\",\n",
    "        \"content\" : [\n",
    "            {\n",
    "                \"type\" : \"text\",\n",
    "                \"text\" : \"이 이미지에 대해서 설명해주세요.\"\n",
    "                },\n",
    "            {\n",
    "                \"type\" : \"image_url\",\n",
    "                \"image_url\" : {\n",
    "                    \"url\" : \"https://images.unsplash.com/photo-1751378639125-07bae36d4556?q=80&w=735&auto=format&fit=crop&ixlib=rb-4.1.0&ixid=M3wxMjA3fDB8MHxwaG90by1wYWdlfHx8fGVufDB8fHx8fA%3D%3D\"\n",
    "                }\n",
    "            }\n",
    "        ]\n",
    "        }\n",
    "    ]\n",
    "\n",
    "response = client.chat.completions.create(\n",
    "    model = \"gpt-4o\",\n",
    "    messages = messages\n",
    ")\n",
    "\n",
    "response.choices"
   ]
  },
  {
   "cell_type": "markdown",
   "id": "37b49a39",
   "metadata": {},
   "source": [
    "### 이미지를 Base64 기반 인코딩하여 gpt에게 전달하기"
   ]
  },
  {
   "cell_type": "code",
   "execution_count": 10,
   "id": "12debfc3",
   "metadata": {},
   "outputs": [
    {
     "data": {
      "text/plain": [
       "'c:\\\\Users\\\\fursew\\\\project\\\\open_ai\\\\code\\\\ch06'"
      ]
     },
     "execution_count": 10,
     "metadata": {},
     "output_type": "execute_result"
    }
   ],
   "source": [
    "os.getcwd()"
   ]
  },
  {
   "cell_type": "code",
   "execution_count": 15,
   "id": "f12b7d31",
   "metadata": {},
   "outputs": [
    {
     "name": "stdout",
     "output_type": "stream",
     "text": [
      "/9j/4AAQSkZJRgABAgEASABIAAD/4gxYSUNDX1BST0ZJTEUAAQEAAAxITGlubwIQAABtbnRyUkdCIFhZWiAHzgACAAkABgAxAABhY3NwTVNGVAAAAABJRUMgc1JHQgAAAAAAAAAAAAAAAAAA9tYAAQAAAADTLUhQICAAAAAAAAAAAAAAAAAAAAAAAAAAAAAAAAAAAAAA\n"
     ]
    }
   ],
   "source": [
    "import base64\n",
    "\n",
    "def encoding(image_path):\n",
    "    with open(image_path,'rb') as img:\n",
    "        return base64.b64encode(img.read()).decode(\"utf-8\")\n",
    "\n",
    "image_path = \"data\\배경사진.jpg\"\n",
    "\n",
    "encoded_image = encoding(image_path)\n",
    "print(encoded_image[:200])"
   ]
  },
  {
   "cell_type": "code",
   "execution_count": 17,
   "id": "9928f040",
   "metadata": {},
   "outputs": [
    {
     "data": {
      "text/plain": [
       "'이 이미지는 전통적인 건축 양식의 목조 건물이 줄지어 있는 한적한 거리의 풍경을 보여줍니다. 길 한가운데에는 자전거를 탄 사람이 보이며, 거리의 끝에는 나지막한 산이 배경으로 자리하고 있습니다. 전선이 공중에 걸쳐 있는 모습과 거리의 전반적인 분위기에서 일본의 시골 마을이나 작은 도시에서 찍은 사진으로 추측할 수 있습니다.'"
      ]
     },
     "execution_count": 17,
     "metadata": {},
     "output_type": "execute_result"
    }
   ],
   "source": [
    "messages = [\n",
    "    {\"role\" : \"user\",\n",
    "     \"content\" : [\n",
    "         {\"type\" : \"text\", \"text\" : \"\"\"이 이미지에 대해서 설명해주시고 어느\n",
    "         나라에서 찍었을지 추측을 해주세요\"\"\"},\n",
    "         {\n",
    "             \"type\" : \"image_url\",\n",
    "             \"image_url\" : {\"url\" : f\"data:image/jpeg;base64,{encoded_image}\"}\n",
    "         }\n",
    "     ]}\n",
    "]\n",
    "\n",
    "response = client.chat.completions.create(\n",
    "    model = 'gpt-4o',\n",
    "    messages = messages\n",
    ")\n",
    "\n",
    "response.choices[0].message.content"
   ]
  },
  {
   "cell_type": "code",
   "execution_count": 23,
   "id": "3f6c210e",
   "metadata": {},
   "outputs": [
    {
     "data": {
      "text/plain": [
       "'죄송하지만 코의 높낮이를 판단할 수 없습니다.'"
      ]
     },
     "execution_count": 23,
     "metadata": {},
     "output_type": "execute_result"
    }
   ],
   "source": [
    "song = encoding(\"data/fromis_9.jpg\")\n",
    "lee = encoding(\"data/fromis_9_1.jpg\")\n",
    "\n",
    "messages = [\n",
    "    \n",
    "    {\"role\" : \"user\",\n",
    "     \"content\" : [\n",
    "         {\"type\" : \"text\", \"text\" : \"\"\"사진의 인물 중에 누구의 코가 더 높나요?\"\"\"},\n",
    "         {\n",
    "             \"type\" : \"image_url\",\n",
    "             \"image_url\" : {\"url\" : f\"data:image/jpeg;base64,{song}\"}\n",
    "         }\n",
    "    ,   {\n",
    "             \"type\" : \"image_url\",\n",
    "             \"image_url\" : {\"url\" : f\"data:image/jpeg;base64,{lee}\"}\n",
    "         }\n",
    "     ]}\n",
    "]\n",
    "\n",
    "response = client.chat.completions.create(\n",
    "    model = 'gpt-4o',\n",
    "    messages = messages\n",
    ")\n",
    "\n",
    "response.choices[0].message.content"
   ]
  },
  {
   "cell_type": "markdown",
   "id": "d33cd8ad",
   "metadata": {},
   "source": [
    "### 그래프 이미지 분석하기"
   ]
  },
  {
   "cell_type": "code",
   "execution_count": 28,
   "id": "8ab5cded",
   "metadata": {},
   "outputs": [
    {
     "data": {
      "text/plain": [
       "'첫 번째 이미지는 2024년의 주가 차트이고, 두 번째 이미지는 2025년의 주가 차트를 보여줍니다. 아래는 두 기간 간의 주요 변화 내용입니다:\\n\\n1. **2024년 주가 동향**:\\n   - 초반에는 상승세를 보이다가 정점을 찍고 하락세로 전환되었습니다.\\n   - 이동 평균선(일반적으로 빨강, 파랑, 주황, 보라색 선)이 전반적으로 하락 방향을 가리키고 있습니다.\\n   - 하락세에서는 몇 차례 반등이 있었지만, 지속적인 상승으로 이어지지는 않았습니다.\\n\\n2. **2025년 주가 동향**:\\n   - 2025년 초에는 주가가 안정세를 보이고 있습니다.\\n   - 4월경에 바닥을 찍은 후 급격한 상승세로 전환됩니다.\\n   - 이동 평균선이 상승 방향으로 전환되며, 특히 5월 이후 강한 상승 추세가 나타났습니다.\\n   - 거래량도 상승 추세와 함께 증가했습니다.\\n\\n3. **주요 차이점**:\\n   - 2024년은 대체로 하락세가 강했던 반면, 2025년에는 중반 이후 강한 상승세를 보였습니다.\\n   - 최저점과 최고점 사이의 변동폭이 2025년에 더 커졌습니다.\\n   - 2025년의 거래량이 2024년보다 많으며 상승세를 뒷받침하고 있습니다.\\n\\n이러한 변화는 시장 상황의 변화, 경제 지표, 기업 실적 등의 여러 요인에 의해 영향을 받을 수 있습니다.'"
      ]
     },
     "execution_count": 28,
     "metadata": {},
     "output_type": "execute_result"
    }
   ],
   "source": [
    "kospi_2024 = encoding(\"data/kospi_2024..jpg\")\n",
    "kospi_2025 = encoding(\"data/kospi_2025.jpg\")\n",
    "\n",
    "messages = [\n",
    "    {\"role\" : \"user\",\n",
    "    \"content\" : \n",
    "     [\n",
    "         {\"type\" : \"text\",\n",
    "         \"text\" : \"\"\"첫 번째 데이터는 2024년 데이터이고, 두 번째 데이터는 2025년 데이터입니다.\n",
    "         이 데이터에 대해서 설명해주세요. 어떠한 변화가 있는지 설명부탁 드립니다.\"\"\"},\n",
    "         {\n",
    "             \"type\" :  \"image_url\",\n",
    "             \"image_url\" : {\n",
    "                 \"url\" : f\"data:image/jpeg;base64,{kospi_2024}\"\n",
    "             }\n",
    "         },\n",
    "          {\n",
    "             \"type\" :  \"image_url\",\n",
    "             \"image_url\" : {\n",
    "                 \"url\" : f\"data:image/jpeg;base64,{kospi_2025}\"\n",
    "             }\n",
    "         }\n",
    "     ]\n",
    "     }\n",
    "]\n",
    "\n",
    "\n",
    "response = client.chat.completions.create(\n",
    "    model = 'gpt-4o',\n",
    "    messages = messages\n",
    ")\n",
    "\n",
    "response.choices[0].message.content"
   ]
  }
 ],
 "metadata": {
  "kernelspec": {
   "display_name": "llm-proj",
   "language": "python",
   "name": "python3"
  },
  "language_info": {
   "codemirror_mode": {
    "name": "ipython",
    "version": 3
   },
   "file_extension": ".py",
   "mimetype": "text/x-python",
   "name": "python",
   "nbconvert_exporter": "python",
   "pygments_lexer": "ipython3",
   "version": "3.11.0"
  }
 },
 "nbformat": 4,
 "nbformat_minor": 5
}
