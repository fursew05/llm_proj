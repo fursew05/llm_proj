{
 "cells": [
  {
   "cell_type": "code",
   "execution_count": 1,
   "id": "3be0d8f3",
   "metadata": {},
   "outputs": [
    {
     "name": "stdout",
     "output_type": "stream",
     "text": [
      "Chat GPT의 응답 : 안녕하세요, fursew님! 만나서 반가워요. 오늘 어떻게 도와드릴까요?\n",
      "Chat GPT의 응답 : 죄송하지만, 저는 개별 사용자의 정체성을 알 수 없습니다. 대화 중에 제공해 주신 정보만을 기반으로 도움을 드릴 수 있습니다. 더 궁금한 점이나 도움이 필요한 부분이 있다면 말씀해 주세요!\n",
      "Chat GPT의 응답 : 당신은 방금 전에 \"fursew\"라고 소개하셨어요. 맞나요? 다른 질문이나 도움이 필요하시면 언제든지 말씀해 주세요!\n",
      "Chat GPT의 응답 : 한국에는 많은 유명한 래퍼들이 있습니다. 그 중에서도 몇 명을 소개하자면:\n",
      "\n",
      "1. **지드래곤 (G-Dragon)** - 빅뱅의 리더이자 솔로 아티스트로도 유명합니다.\n",
      "2. **빈지노 (Beenzino)** - 독창적인 스타일과 가사로 많은 팬을 보유하고 있습니다.\n",
      "3. **도끼 (Dok2)** - 한국 힙합 씬에서 상당한 영향력을 가진 래퍼입니다.\n",
      "4. **제시 (Jessi)** - 강렬한 카리스마와 실력으로 사랑받고 있습니다.\n",
      "5. **ZICO (지코)** - 블락비(Block B)의 멤버이자 솔로로도 활동하며 큰 인기를 끌고 있습니다.\n",
      "6. **타이거 JK** - 한국 힙합의 선구자 중 한 명으로, 드렁큰 타이거(Drunken Tiger)의 멤버입니다.\n",
      "\n",
      "이 외에도 많은 실력 있는 래퍼들이 한국 힙합 씬을 이끌고 있습니다. 어떤 래퍼의 음악을 좋아하시나요?\n",
      "Chat GPT의 응답 : 미국에는 많은 유명하고 영향력 있는 래퍼들이 있습니다. 몇 명을 소개하자면:\n",
      "\n",
      "1. **투팍 (2Pac)** - 힙합 역사상 가장 전설적인 래퍼 중 한 명으로, 그의 음악은 여전히 많은 사람들에게 영감을 줍니다.\n",
      "2. **노토리어스 B.I.G. (The Notorious B.I.G.)** - 90년대 힙합을 대표하는 인물로, 그의 유산은 오늘날까지도 이어지고 있습니다.\n",
      "3. **제이지 (Jay-Z)** - 성공적인 음악 경력과 사업가로서의 명성을 가진 인물입니다.\n",
      "4. **에미넴 (Eminem)** - 뛰어난 랩 실력과 가사로 세계적인 인기를 끌고 있습니다.\n",
      "5. **카니예 웨스트 (Kanye West)** - 혁신적인 음악 스타일과 프로듀싱으로 유명합니다.\n",
      "6. **드레이크 (Drake)** - 힙합과 R&B를 넘나들며 많은 히트곡을 보유하고 있습니다.\n",
      "7. **켄드릭 라마 (Kendrick Lamar)** - 사회적 메시지가 강한 음악으로 평단과 대중에게 큰 인정을 받고 있습니다.\n",
      "\n",
      "이 외에도 많은 래퍼들이 미국 힙합 씬을 주도하고 있습니다. 특정한 래퍼나 스타일에 대해 궁금한 점이 있으면 말씀해 주세요!\n"
     ]
    }
   ],
   "source": [
    "import os\n",
    "from openai import OpenAI\n",
    "from dotenv import load_dotenv\n",
    "\n",
    "load_dotenv()\n",
    "api_key = os.getenv('OPENAI_API_KEY')\n",
    "\n",
    "client = OpenAI(api_key=api_key)\n",
    "\n",
    "# 답변을 생성하는 함수 정의\n",
    "def get_response(messages):\n",
    "    response = client.chat.completions.create(\n",
    "        model = \"gpt-4o\",\n",
    "        temperature = 0.9,\n",
    "        messages = messages\n",
    "    )\n",
    "    return response.choices[0].message.content\n",
    "\n",
    "# 초기 프롬프트(시스템 프롬프트) 설정\n",
    "message = [\n",
    "    {\"role\" : \"system\", \"content\" : \"너는 사용자를 도와주는 상담사야.\"}\n",
    "]\n",
    "\n",
    "while True:\n",
    "    user_input = input(\"무엇이든 물어보세요 : \")\n",
    "\n",
    "    if user_input == 'exit':\n",
    "        break\n",
    "    \n",
    "    message.append({\"role\" : \"user\", \"content\" : user_input})\n",
    "    ai_response = get_response(messages=message)\n",
    "    message.append({\"role\" : \"assistant\", \"content\" : ai_response})\n",
    "    print(f\"Chat GPT의 응답 : {ai_response}\")"
   ]
  }
 ],
 "metadata": {
  "kernelspec": {
   "display_name": "llm-proj",
   "language": "python",
   "name": "python3"
  },
  "language_info": {
   "codemirror_mode": {
    "name": "ipython",
    "version": 3
   },
   "file_extension": ".py",
   "mimetype": "text/x-python",
   "name": "python",
   "nbconvert_exporter": "python",
   "pygments_lexer": "ipython3",
   "version": "3.11.6"
  }
 },
 "nbformat": 4,
 "nbformat_minor": 5
}
