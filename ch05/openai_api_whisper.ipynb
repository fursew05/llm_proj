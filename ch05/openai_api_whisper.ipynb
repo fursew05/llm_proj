{
 "cells": [
  {
   "cell_type": "code",
   "execution_count": 1,
   "id": "c9e368c2",
   "metadata": {},
   "outputs": [],
   "source": [
    "from openai import OpenAI\n",
    "from dotenv import load_dotenv\n",
    "import os\n",
    "\n",
    "load_dotenv()\n",
    "api_key = os.getenv(\"OPEN_API_KEY\")\n",
    "\n",
    "client = OpenAI(api_key=api_key)"
   ]
  },
  {
   "cell_type": "markdown",
   "id": "2dc8923f",
   "metadata": {},
   "source": [
    "### STT (Speech To Text)"
   ]
  },
  {
   "cell_type": "code",
   "execution_count": 2,
   "id": "4c73b0a2",
   "metadata": {},
   "outputs": [
    {
     "data": {
      "text/plain": [
       "'다시 말해봐 일단 내가 2천원 먼저 보내줄테니까 12,000원 나중에 보내줄게 왜 또 줄어? 가격이? 그만 그렇게 말하는거지 너 왔다며 아니 그냥 10,000원 보내주고 5,000원 나중에 대 12,000원 2,000원 하자 12,000원 2,000원 아니 1,000원은 뭐 그렇게 아쉬워 야 그럼 12,000원 12,000원 그냥 12,000원 두고 3,000원 그냥 아쉬워 나는 지금 많이 희생했잖아 나는 3,000원 내 버스비긴 해 내 교통비라서 미치겠네 아쉬워라 3,000원이 그걸 나중에 내면 된다니까 지금 내라는게 아니냐 몇번을 말해 언제 내가 보려면 계속 두사람 기다려야되는데 그건 니가 그냥 일을 안하는거네 돈없다고 찡찡대면서 돈은 아니잖아 일단 머리 자르고 돈은 보내주던 연락을 할게 있는 돈부터 계산을 해봐야 될거 아니야 막냉이 얼마인지 계산 안될 수 있잖아 일단 뭐 뭐가 됐든 일단 이따 말해 그래 업보가 되겠네 엥? 업보는 아니고'"
      ]
     },
     "execution_count": 2,
     "metadata": {},
     "output_type": "execute_result"
    }
   ],
   "source": [
    "file_path = \"C://Users//fursew//project//open_ai//ch05//음성녹음.mp3\"\n",
    "\n",
    "with open(file_path,\"rb\") as f:\n",
    "    response = client.audio.transcriptions.create(\n",
    "        file=f,\n",
    "        model=\"whisper-1\",\n",
    "    )\n",
    "\n",
    "response.text"
   ]
  },
  {
   "cell_type": "code",
   "execution_count": 4,
   "id": "2dad812b",
   "metadata": {},
   "outputs": [
    {
     "data": {
      "text/plain": [
       "\"I'll cut my hair. Say that again. I'll send you 2,000 won first. I'll send you 12,000 won later. Why is the price going down? Stop talking like that. You said you were here. No, I'll just send you 10,000 won. I'll pay you 5,000 won later. Let's do 12,000 won, 2,000 won. 12,000 won, 2,000 won. 1,000 won is not enough. Then 12,000 won. You're not gonna give me 3,000 won? No, I've sacrificed a lot right now. I'll pay you 3,000 won later. It's my bus fare. It's my transportation fee. I'm sorry. I'll pay you 3,000 won later. I'll pay you 3,000 won later. I'm not asking you to pay me now. How many times do I have to tell you? When? I have to wait two more months to see you. You're just not working. You're complaining that you don't have money. I don't have money. I'll cut my hair first. I'll send you the money. I'll call you later. You have to pay me first. I don't know how much you have. I can't pay you. Whatever it is, I'll tell you later. Yeah, I'll give you a kiss. What?\""
      ]
     },
     "execution_count": 4,
     "metadata": {},
     "output_type": "execute_result"
    }
   ],
   "source": [
    "# translation을 통한 영어 번역\n",
    "with open(file_path,\"rb\") as f:\n",
    "    response = client.audio.translations.create(\n",
    "    file = f,\n",
    "    model = \"whisper-1\"\n",
    ")\n",
    "\n",
    "response.text"
   ]
  }
 ],
 "metadata": {
  "kernelspec": {
   "display_name": "llm-proj",
   "language": "python",
   "name": "python3"
  },
  "language_info": {
   "codemirror_mode": {
    "name": "ipython",
    "version": 3
   },
   "file_extension": ".py",
   "mimetype": "text/x-python",
   "name": "python",
   "nbconvert_exporter": "python",
   "pygments_lexer": "ipython3",
   "version": "3.11.0"
  }
 },
 "nbformat": 4,
 "nbformat_minor": 5
}
